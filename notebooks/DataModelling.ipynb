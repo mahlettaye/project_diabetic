{
  "cells": [
    {
      "cell_type": "code",
      "execution_count": 1,
      "metadata": {},
      "outputs": [],
      "source": [
        "%load_ext autoreload\n",
        "%autoreload 2\n",
        "import sys\n",
        "path='../'\n",
        "if not path in sys.path:\n",
        "    \n",
        "    sys.path.append(path)"
      ]
    },
    {
      "attachments": {},
      "cell_type": "markdown",
      "metadata": {},
      "source": [
        "### Modeling"
      ]
    },
    {
      "cell_type": "code",
      "execution_count": 2,
      "metadata": {
        "id": "V7NDpsxZgoS4"
      },
      "outputs": [],
      "source": [
        "from sklearn.model_selection import train_test_split\n",
        "from sklearn.preprocessing import MinMaxScaler\n",
        "from joblib import dump,load\n",
        "from sklearn.ensemble import RandomForestClassifier\n",
        "from sklearn.model_selection import cross_val_score, train_test_split\n",
        "from sklearn.metrics import accuracy_score, precision_score, recall_score, f1_score, confusion_matrix\n",
        "from sklearn.svm import LinearSVC\n",
        "import numpy as np\n",
        "import pickle\n",
        "import pandas as pd"
      ]
    },
    {
      "cell_type": "code",
      "execution_count": 3,
      "metadata": {},
      "outputs": [],
      "source": [
        "selected_features = pd.read_csv(\"../data/features.csv\")\n",
        "y = pd.read_csv(\"../data/label.csv\")"
      ]
    },
    {
      "cell_type": "code",
      "execution_count": 4,
      "metadata": {},
      "outputs": [
        {
          "data": {
            "text/plain": [
              "93225"
            ]
          },
          "execution_count": 4,
          "metadata": {},
          "output_type": "execute_result"
        }
      ],
      "source": [
        "len(selected_features)"
      ]
    },
    {
      "cell_type": "code",
      "execution_count": 17,
      "metadata": {},
      "outputs": [
        {
          "data": {
            "text/html": [
              "<div>\n",
              "<style scoped>\n",
              "    .dataframe tbody tr th:only-of-type {\n",
              "        vertical-align: middle;\n",
              "    }\n",
              "\n",
              "    .dataframe tbody tr th {\n",
              "        vertical-align: top;\n",
              "    }\n",
              "\n",
              "    .dataframe thead th {\n",
              "        text-align: right;\n",
              "    }\n",
              "</style>\n",
              "<table border=\"1\" class=\"dataframe\">\n",
              "  <thead>\n",
              "    <tr style=\"text-align: right;\">\n",
              "      <th></th>\n",
              "      <th>discharge_disposition_id</th>\n",
              "      <th>time_in_hospital</th>\n",
              "      <th>num_medications</th>\n",
              "      <th>number_outpatient</th>\n",
              "      <th>number_emergency</th>\n",
              "      <th>number_inpatient</th>\n",
              "      <th>number_diagnoses</th>\n",
              "      <th>change</th>\n",
              "      <th>diabetesMed</th>\n",
              "    </tr>\n",
              "  </thead>\n",
              "  <tbody>\n",
              "    <tr>\n",
              "      <th>0</th>\n",
              "      <td>1</td>\n",
              "      <td>3</td>\n",
              "      <td>18</td>\n",
              "      <td>0</td>\n",
              "      <td>0</td>\n",
              "      <td>0</td>\n",
              "      <td>9</td>\n",
              "      <td>0</td>\n",
              "      <td>1</td>\n",
              "    </tr>\n",
              "    <tr>\n",
              "      <th>1</th>\n",
              "      <td>1</td>\n",
              "      <td>2</td>\n",
              "      <td>16</td>\n",
              "      <td>0</td>\n",
              "      <td>0</td>\n",
              "      <td>0</td>\n",
              "      <td>7</td>\n",
              "      <td>0</td>\n",
              "      <td>1</td>\n",
              "    </tr>\n",
              "    <tr>\n",
              "      <th>2</th>\n",
              "      <td>1</td>\n",
              "      <td>1</td>\n",
              "      <td>8</td>\n",
              "      <td>0</td>\n",
              "      <td>0</td>\n",
              "      <td>0</td>\n",
              "      <td>5</td>\n",
              "      <td>0</td>\n",
              "      <td>1</td>\n",
              "    </tr>\n",
              "    <tr>\n",
              "      <th>3</th>\n",
              "      <td>1</td>\n",
              "      <td>3</td>\n",
              "      <td>16</td>\n",
              "      <td>0</td>\n",
              "      <td>0</td>\n",
              "      <td>0</td>\n",
              "      <td>9</td>\n",
              "      <td>1</td>\n",
              "      <td>1</td>\n",
              "    </tr>\n",
              "    <tr>\n",
              "      <th>4</th>\n",
              "      <td>1</td>\n",
              "      <td>5</td>\n",
              "      <td>12</td>\n",
              "      <td>0</td>\n",
              "      <td>0</td>\n",
              "      <td>0</td>\n",
              "      <td>8</td>\n",
              "      <td>1</td>\n",
              "      <td>1</td>\n",
              "    </tr>\n",
              "    <tr>\n",
              "      <th>...</th>\n",
              "      <td>...</td>\n",
              "      <td>...</td>\n",
              "      <td>...</td>\n",
              "      <td>...</td>\n",
              "      <td>...</td>\n",
              "      <td>...</td>\n",
              "      <td>...</td>\n",
              "      <td>...</td>\n",
              "      <td>...</td>\n",
              "    </tr>\n",
              "    <tr>\n",
              "      <th>93220</th>\n",
              "      <td>3</td>\n",
              "      <td>3</td>\n",
              "      <td>16</td>\n",
              "      <td>0</td>\n",
              "      <td>0</td>\n",
              "      <td>0</td>\n",
              "      <td>9</td>\n",
              "      <td>0</td>\n",
              "      <td>1</td>\n",
              "    </tr>\n",
              "    <tr>\n",
              "      <th>93221</th>\n",
              "      <td>4</td>\n",
              "      <td>5</td>\n",
              "      <td>18</td>\n",
              "      <td>0</td>\n",
              "      <td>0</td>\n",
              "      <td>1</td>\n",
              "      <td>9</td>\n",
              "      <td>1</td>\n",
              "      <td>1</td>\n",
              "    </tr>\n",
              "    <tr>\n",
              "      <th>93222</th>\n",
              "      <td>1</td>\n",
              "      <td>1</td>\n",
              "      <td>9</td>\n",
              "      <td>1</td>\n",
              "      <td>0</td>\n",
              "      <td>0</td>\n",
              "      <td>13</td>\n",
              "      <td>0</td>\n",
              "      <td>1</td>\n",
              "    </tr>\n",
              "    <tr>\n",
              "      <th>93223</th>\n",
              "      <td>3</td>\n",
              "      <td>10</td>\n",
              "      <td>21</td>\n",
              "      <td>0</td>\n",
              "      <td>0</td>\n",
              "      <td>1</td>\n",
              "      <td>9</td>\n",
              "      <td>0</td>\n",
              "      <td>1</td>\n",
              "    </tr>\n",
              "    <tr>\n",
              "      <th>93224</th>\n",
              "      <td>1</td>\n",
              "      <td>6</td>\n",
              "      <td>3</td>\n",
              "      <td>0</td>\n",
              "      <td>0</td>\n",
              "      <td>0</td>\n",
              "      <td>9</td>\n",
              "      <td>1</td>\n",
              "      <td>0</td>\n",
              "    </tr>\n",
              "  </tbody>\n",
              "</table>\n",
              "<p>93225 rows × 9 columns</p>\n",
              "</div>"
            ],
            "text/plain": [
              "       discharge_disposition_id  time_in_hospital  num_medications  \\\n",
              "0                             1                 3               18   \n",
              "1                             1                 2               16   \n",
              "2                             1                 1                8   \n",
              "3                             1                 3               16   \n",
              "4                             1                 5               12   \n",
              "...                         ...               ...              ...   \n",
              "93220                         3                 3               16   \n",
              "93221                         4                 5               18   \n",
              "93222                         1                 1                9   \n",
              "93223                         3                10               21   \n",
              "93224                         1                 6                3   \n",
              "\n",
              "       number_outpatient  number_emergency  number_inpatient  \\\n",
              "0                      0                 0                 0   \n",
              "1                      0                 0                 0   \n",
              "2                      0                 0                 0   \n",
              "3                      0                 0                 0   \n",
              "4                      0                 0                 0   \n",
              "...                  ...               ...               ...   \n",
              "93220                  0                 0                 0   \n",
              "93221                  0                 0                 1   \n",
              "93222                  1                 0                 0   \n",
              "93223                  0                 0                 1   \n",
              "93224                  0                 0                 0   \n",
              "\n",
              "       number_diagnoses  change  diabetesMed  \n",
              "0                     9       0            1  \n",
              "1                     7       0            1  \n",
              "2                     5       0            1  \n",
              "3                     9       1            1  \n",
              "4                     8       1            1  \n",
              "...                 ...     ...          ...  \n",
              "93220                 9       0            1  \n",
              "93221                 9       1            1  \n",
              "93222                13       0            1  \n",
              "93223                 9       0            1  \n",
              "93224                 9       1            0  \n",
              "\n",
              "[93225 rows x 9 columns]"
            ]
          },
          "execution_count": 17,
          "metadata": {},
          "output_type": "execute_result"
        }
      ],
      "source": [
        "selected_features = selected_features.drop(columns=['Unnamed: 0'])\n",
        "selected_features"
      ]
    },
    {
      "cell_type": "code",
      "execution_count": 8,
      "metadata": {},
      "outputs": [
        {
          "data": {
            "text/plain": [
              "readmitted\n",
              "2    50248\n",
              "1    32620\n",
              "0    10357\n",
              "Name: count, dtype: int64"
            ]
          },
          "execution_count": 8,
          "metadata": {},
          "output_type": "execute_result"
        }
      ],
      "source": [
        "y['readmitted'].value_counts()"
      ]
    },
    {
      "cell_type": "code",
      "execution_count": 18,
      "metadata": {
        "colab": {
          "base_uri": "https://localhost:8080/"
        },
        "id": "dpJNzam3goS6",
        "outputId": "86ac8c80-edcb-41b5-a5c2-4c50cabec6cc"
      },
      "outputs": [
        {
          "name": "stdout",
          "output_type": "stream",
          "text": [
            "[[0.         0.23076923 0.29487179 ... 0.26666667 0.         1.        ]\n",
            " [0.         0.15384615 0.05128205 ... 0.53333333 0.         1.        ]\n",
            " [0.11111111 0.61538462 0.1025641  ... 0.53333333 1.         0.        ]\n",
            " ...\n",
            " [0.07407407 0.15384615 0.14102564 ... 0.53333333 0.         1.        ]\n",
            " [0.         0.15384615 0.16666667 ... 0.2        0.         1.        ]\n",
            " [0.62962963 0.30769231 0.08974359 ... 0.53333333 1.         0.        ]]\n"
          ]
        }
      ],
      "source": [
        "xtrain,xtest,ytrain,ytest = train_test_split(selected_features,y['readmitted'],test_size=0.2,random_state=40)\n",
        "\n",
        "# creating scaler scale var.\n",
        "norm = MinMaxScaler()\n",
        "# fit the scal\n",
        "norm_fit = norm.fit(xtrain)\n",
        "## save to pickel file\n",
        "pickle.dump(norm_fit, open(\"scaler.pkl\", 'wb'))\n",
        "dump(norm_fit,'scaler.joblib')\n",
        "# transfromation of trainig data\n",
        "scal_xtrain = norm_fit.transform(xtrain)\n",
        "\n",
        "# transformation of testing data\n",
        "scal_xtest = norm_fit.transform(xtest)\n",
        "print(scal_xtrain)"
      ]
    },
    {
      "cell_type": "code",
      "execution_count": 19,
      "metadata": {
        "id": "ZOW0PrOV2hYg"
      },
      "outputs": [],
      "source": [
        "\n",
        "# create model variable\n",
        "rnd = RandomForestClassifier()\n",
        "\n",
        "# fit the model\n",
        "fit_rnd = rnd.fit(xtrain,ytrain)"
      ]
    },
    {
      "cell_type": "code",
      "execution_count": 8,
      "metadata": {},
      "outputs": [
        {
          "name": "stdout",
          "output_type": "stream",
          "text": [
            "Average CV Score: 0.5485\n"
          ]
        }
      ],
      "source": [
        "# Perform 5-fold cross-validation\n",
        "cv_scores = cross_val_score(rnd, xtrain, ytrain, cv=5)\n",
        "\n",
        "# Print the average score\n",
        "print(f\"Average CV Score: {np.mean(cv_scores):.4f}\")"
      ]
    },
    {
      "cell_type": "code",
      "execution_count": 29,
      "metadata": {},
      "outputs": [
        {
          "data": {
            "text/plain": [
              "{'discharge_disposition_id': 6,\n",
              " 'time_in_hospital': 11,\n",
              " 'num_medications': 18,\n",
              " 'number_outpatient': 0,\n",
              " 'number_emergency': 1,\n",
              " 'number_inpatient': 0,\n",
              " 'number_diagnoses': 9,\n",
              " 'change': 0,\n",
              " 'diabetesMed': 1}"
            ]
          },
          "execution_count": 29,
          "metadata": {},
          "output_type": "execute_result"
        }
      ],
      "source": [
        "xtest.iloc[10854].to_dict()"
      ]
    },
    {
      "cell_type": "code",
      "execution_count": 32,
      "metadata": {},
      "outputs": [
        {
          "name": "stdout",
          "output_type": "stream",
          "text": [
            "1.2.2\n"
          ]
        }
      ],
      "source": [
        "import sklearn\n",
        "print(sklearn.__version__)"
      ]
    },
    {
      "cell_type": "code",
      "execution_count": 31,
      "metadata": {},
      "outputs": [],
      "source": [
        "single_instance = pd.DataFrame([xtest.iloc[10854].to_dict()])\n",
        "prediction = fit_rnd.predict(single_instance)"
      ]
    },
    {
      "cell_type": "code",
      "execution_count": 20,
      "metadata": {
        "id": "3v5m9Qg7QcWj"
      },
      "outputs": [],
      "source": [
        "#predicting our target variable\n",
        "y_predict = fit_rnd.predict(xtest)\n",
        "\n",
        "#predicting the probability of our target variable\n",
        "y_predict_probabilty = fit_rnd.predict_proba(xtest)"
      ]
    },
    {
      "cell_type": "code",
      "execution_count": 21,
      "metadata": {
        "colab": {
          "base_uri": "https://localhost:8080/"
        },
        "id": "Zh2UwI0gRUaN",
        "outputId": "0db13c56-3317-4843-88fc-0c6cd7f37827"
      },
      "outputs": [
        {
          "name": "stdout",
          "output_type": "stream",
          "text": [
            "[2, 2, 2, 2, 2, 1, 2, 2, 1, 2]\n"
          ]
        }
      ],
      "source": [
        "print(list(y_predict)[:10])"
      ]
    },
    {
      "cell_type": "code",
      "execution_count": 22,
      "metadata": {
        "colab": {
          "base_uri": "https://localhost:8080/"
        },
        "id": "zIQDIRDmSihF",
        "outputId": "f4aee5fb-4492-410c-ed95-6eedde3e2307"
      },
      "outputs": [
        {
          "name": "stdout",
          "output_type": "stream",
          "text": [
            "[[0.055      0.13       0.815     ]\n",
            " [0.005      0.43166667 0.56333333]\n",
            " [0.02416667 0.2465     0.72933333]\n",
            " ...\n",
            " [0.0922336  0.52965657 0.37810983]\n",
            " [0.3        0.41       0.29      ]\n",
            " [0.07231252 0.38550382 0.54218366]]\n"
          ]
        }
      ],
      "source": [
        "print(y_predict_probabilty)"
      ]
    },
    {
      "cell_type": "code",
      "execution_count": 23,
      "metadata": {
        "colab": {
          "base_uri": "https://localhost:8080/"
        },
        "id": "QYxfdoLtSLNH",
        "outputId": "e67eb434-f01e-4c6e-f7b9-845ad29f4ce5"
      },
      "outputs": [
        {
          "name": "stdout",
          "output_type": "stream",
          "text": [
            "score of model is :  0.5242156074014481\n"
          ]
        }
      ],
      "source": [
        "# checking the accuracy score\n",
        "rnd_score = fit_rnd.score(xtest,ytest)\n",
        "\n",
        "print('score of model is : ',rnd_score)\n",
        "\n",
        "pickle.dump(fit_rnd, open(\"model.pkl\", 'wb'))\n"
      ]
    },
    {
      "cell_type": "code",
      "execution_count": 24,
      "metadata": {},
      "outputs": [
        {
          "data": {
            "text/plain": [
              "['../data/random_forest_model.joblib']"
            ]
          },
          "execution_count": 24,
          "metadata": {},
          "output_type": "execute_result"
        }
      ],
      "source": [
        "from joblib import dump\n",
        "\n",
        "# Assuming your RandomForestClassifier is named 'rnd'\n",
        "dump(rnd, '../data/random_forest_model.joblib')"
      ]
    },
    {
      "cell_type": "code",
      "execution_count": 25,
      "metadata": {
        "colab": {
          "base_uri": "https://localhost:8080/"
        },
        "id": "IHihlb4XGuun",
        "outputId": "ec337f3e-f377-4250-8a27-9a4ef9946077"
      },
      "outputs": [
        {
          "name": "stdout",
          "output_type": "stream",
          "text": [
            "              precision    recall  f1-score   support\n",
            "\n",
            "           0       0.17      0.08      0.11      2024\n",
            "           1       0.44      0.37      0.40      6689\n",
            "           2       0.59      0.72      0.65      9932\n",
            "\n",
            "    accuracy                           0.52     18645\n",
            "   macro avg       0.40      0.39      0.39     18645\n",
            "weighted avg       0.49      0.52      0.50     18645\n",
            "\n"
          ]
        }
      ],
      "source": [
        "from sklearn.metrics import classification_report\n",
        "x_predict = list(rnd.predict(xtest))\n",
        "print(classification_report(ytest, x_predict))\n",
        "#df = {'predicted':x_predict,'orignal':ytest}\n",
        "#df"
      ]
    },
    {
      "attachments": {},
      "cell_type": "markdown",
      "metadata": {},
      "source": [
        "### Improvement \n",
        "### Advanced model logging, registration and data versioning\n",
        "## DVC and MLflow \n",
        "\n"
      ]
    },
    {
      "cell_type": "code",
      "execution_count": 34,
      "metadata": {},
      "outputs": [
        {
          "name": "stderr",
          "output_type": "stream",
          "text": [
            "2023/12/13 15:04:03 WARNING mlflow.utils.autologging_utils: MLflow autologging encountered a warning: \"/Users/mahlettaye/miniconda3/lib/python3.10/site-packages/mlflow/data/pandas_dataset.py:134: UserWarning: Hint: Inferred schema contains integer column(s). Integer columns in Python cannot represent missing values. If your input data contains missing values at inference time, it will be encoded as floats and will cause a schema enforcement error. The best way to avoid this problem is to infer the model schema based on a realistic data sample (training dataset) that includes missing values. Alternatively, you can declare integer columns as doubles (float64) whenever these columns may have missing values. See `Handling Integers With Missing Values <https://www.mlflow.org/docs/latest/models.html#handling-integers-with-missing-values>`_ for more details.\"\n",
            "/Users/mahlettaye/miniconda3/lib/python3.10/site-packages/sklearn/metrics/_classification.py:1344: UndefinedMetricWarning: Precision is ill-defined and being set to 0.0 in labels with no predicted samples. Use `zero_division` parameter to control this behavior.\n",
            "  _warn_prf(average, modifier, msg_start, len(result))\n",
            "2023/12/13 15:04:04 WARNING mlflow.utils.autologging_utils: MLflow autologging encountered a warning: \"/Users/mahlettaye/miniconda3/lib/python3.10/site-packages/mlflow/models/signature.py:212: UserWarning: Hint: Inferred schema contains integer column(s). Integer columns in Python cannot represent missing values. If your input data contains missing values at inference time, it will be encoded as floats and will cause a schema enforcement error. The best way to avoid this problem is to infer the model schema based on a realistic data sample (training dataset) that includes missing values. Alternatively, you can declare integer columns as doubles (float64) whenever these columns may have missing values. See `Handling Integers With Missing Values <https://www.mlflow.org/docs/latest/models.html#handling-integers-with-missing-values>`_ for more details.\"\n",
            "2023/12/13 15:04:06 WARNING mlflow.utils.autologging_utils: MLflow autologging encountered a warning: \"/Users/mahlettaye/miniconda3/lib/python3.10/site-packages/mlflow/data/pandas_dataset.py:134: UserWarning: Hint: Inferred schema contains integer column(s). Integer columns in Python cannot represent missing values. If your input data contains missing values at inference time, it will be encoded as floats and will cause a schema enforcement error. The best way to avoid this problem is to infer the model schema based on a realistic data sample (training dataset) that includes missing values. Alternatively, you can declare integer columns as doubles (float64) whenever these columns may have missing values. See `Handling Integers With Missing Values <https://www.mlflow.org/docs/latest/models.html#handling-integers-with-missing-values>`_ for more details.\"\n"
          ]
        },
        {
          "name": "stdout",
          "output_type": "stream",
          "text": [
            "Model accuracy: 0.568839\n"
          ]
        }
      ],
      "source": [
        "import mlflow\n",
        "import numpy as np\n",
        "from sklearn.ensemble import RandomForestClassifier\n",
        "from sklearn import datasets\n",
        "from sklearn.metrics import accuracy_score\n",
        "from sklearn.model_selection import train_test_split\n",
        "\n",
        "\n",
        "\n",
        "# Start an MLflow experiment\n",
        "with mlflow.start_run():\n",
        "\n",
        "    # Train a model\n",
        "    model = RandomForestClassifier(max_depth=5, n_estimators=10, max_features=1)\n",
        "    model.fit(xtrain,ytrain)\n",
        "\n",
        "    # Make predictions\n",
        "    predictions = model.predict(xtest)\n",
        "\n",
        "    # Log an evaluation metric\n",
        "    accuracy = accuracy_score(ytest, predictions)\n",
        "    mlflow.log_metric(\"accuracy\", accuracy)\n",
        "\n",
        "    print(\"Model accuracy: %f\" % accuracy)\n"
      ]
    },
    {
      "cell_type": "code",
      "execution_count": null,
      "metadata": {},
      "outputs": [],
      "source": []
    }
  ],
  "metadata": {
    "colab": {
      "provenance": []
    },
    "kernelspec": {
      "display_name": "base",
      "language": "python",
      "name": "python3"
    },
    "language_info": {
      "codemirror_mode": {
        "name": "ipython",
        "version": 3
      },
      "file_extension": ".py",
      "mimetype": "text/x-python",
      "name": "python",
      "nbconvert_exporter": "python",
      "pygments_lexer": "ipython3",
      "version": "3.10.8"
    },
    "vscode": {
      "interpreter": {
        "hash": "e48903bd54e3e28719353c1778bd69fe970f5007b162f847d9950d66ef1dcab7"
      }
    }
  },
  "nbformat": 4,
  "nbformat_minor": 0
}
